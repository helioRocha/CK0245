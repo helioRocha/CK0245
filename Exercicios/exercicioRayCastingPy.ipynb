{
 "cells": [
  {
   "cell_type": "code",
   "execution_count": 1,
   "metadata": {
    "collapsed": true
   },
   "outputs": [],
   "source": [
    "import numpy as np\n",
    "from numpy.linalg import inv"
   ]
  },
  {
   "cell_type": "code",
   "execution_count": 2,
   "metadata": {
    "collapsed": true
   },
   "outputs": [],
   "source": [
    "def norm(vec):\n",
    "    s = 0.0\n",
    "    for item in vec: s += item*item\n",
    "    \n",
    "    return s**(1/2.)"
   ]
  },
  {
   "cell_type": "code",
   "execution_count": 3,
   "metadata": {},
   "outputs": [],
   "source": [
    "# Exercicio em aula: 19/10/17\n",
    "\n",
    "# Dados\n",
    "Eye = np.array([7, 1.8, 2.5, 1])\n",
    "LookAt = np.array([5., .75, 2.5, 1.])\n",
    "ViewUpPnt = np.array([5., 1.75, 2.5])\n",
    "Vup = ViewUpPnt\n",
    "d, w, h = 0.7, 0.5, 0.5\n",
    "i, j = 250, 250\n",
    "nx, ny = 500, 500"
   ]
  },
  {
   "cell_type": "code",
   "execution_count": 4,
   "metadata": {},
   "outputs": [],
   "source": [
    "# Pontos do triangulo, em coordenadas de mundo\n",
    "Pw_1 = np.array([6.79, 1.12, 3., 1.])\n",
    "Pw_2 = np.array([6.52, 1., 2., 1.])\n",
    "Pw_3 = np.array([6.27, 2.55, 2.5, 1.])"
   ]
  },
  {
   "cell_type": "code",
   "execution_count": 5,
   "metadata": {},
   "outputs": [
    {
     "ename": "NameError",
     "evalue": "name 'k' is not defined",
     "output_type": "error",
     "traceback": [
      "\u001b[1;31m---------------------------------------------------------------------------\u001b[0m",
      "\u001b[1;31mNameError\u001b[0m                                 Traceback (most recent call last)",
      "\u001b[1;32m<ipython-input-5-1706d19fdd0d>\u001b[0m in \u001b[0;36m<module>\u001b[1;34m()\u001b[0m\n\u001b[0;32m      7\u001b[0m \u001b[0mVuv\u001b[0m \u001b[1;33m=\u001b[0m \u001b[0mVup\u001b[0m \u001b[1;33m-\u001b[0m \u001b[0mEye\u001b[0m\u001b[1;33m[\u001b[0m\u001b[1;36m0\u001b[0m\u001b[1;33m:\u001b[0m\u001b[1;36m3\u001b[0m\u001b[1;33m]\u001b[0m\u001b[1;33m\u001b[0m\u001b[0m\n\u001b[0;32m      8\u001b[0m \u001b[1;33m\u001b[0m\u001b[0m\n\u001b[1;32m----> 9\u001b[1;33m \u001b[0mvec_I\u001b[0m \u001b[1;33m=\u001b[0m \u001b[0mnp\u001b[0m\u001b[1;33m.\u001b[0m\u001b[0mcross\u001b[0m\u001b[1;33m(\u001b[0m\u001b[0mVuv\u001b[0m\u001b[1;33m,\u001b[0m \u001b[0mk\u001b[0m\u001b[1;33m[\u001b[0m\u001b[1;36m0\u001b[0m\u001b[1;33m:\u001b[0m\u001b[1;36m3\u001b[0m\u001b[1;33m]\u001b[0m\u001b[1;33m)\u001b[0m\u001b[1;33m\u001b[0m\u001b[0m\n\u001b[0m\u001b[0;32m     10\u001b[0m \u001b[0mvec_i\u001b[0m \u001b[1;33m=\u001b[0m \u001b[0mvec_I\u001b[0m \u001b[1;33m/\u001b[0m \u001b[0mnorm\u001b[0m\u001b[1;33m(\u001b[0m\u001b[0mvec_I\u001b[0m\u001b[1;33m)\u001b[0m\u001b[1;33m\u001b[0m\u001b[0m\n\u001b[0;32m     11\u001b[0m \u001b[1;33m\u001b[0m\u001b[0m\n",
      "\u001b[1;31mNameError\u001b[0m: name 'k' is not defined"
     ]
    }
   ],
   "source": [
    "# 1) Avaliacao da matriz de transformacao Tw->c\n",
    "\n",
    "vec_K = Eye - LookAt\n",
    "vec_k = vec_K / norm(vec_K)\n",
    "\n",
    "# ViewUpVector = ViewUpPnt - Eye\n",
    "Vuv = Vup - Eye[0:3]\n",
    "\n",
    "vec_I = np.cross(Vuv, k[0:3])\n",
    "vec_i = vec_I / norm(vec_I)\n",
    "\n",
    "vec_j = np.cross(vec_k[0:3], vec_i)\n",
    "\n",
    "a = np.matmul(-Eye[0:3], np.transpose(vec_i))\n",
    "b = np.matmul(-Eye[0:3], np.transpose(vec_j))\n",
    "c = np.matmul(-Eye[0:3], np.transpose(vec_k[0:3]))\n",
    "\n",
    "Twc = np.array([[vec_i[0], vec_i[1], vec_i[2], a],\n",
    "                [vec_j[0], vec_j[1], vec_j[2], b], \n",
    "                [vec_k[0], vec_k[1], vec_k[2], c],\n",
    "                [       0,        0,        0, 1]])"
   ]
  },
  {
   "cell_type": "code",
   "execution_count": null,
   "metadata": {},
   "outputs": [],
   "source": [
    "# 2) Avaliar objetos em coordenadas de camera\n",
    "\n",
    "Pc_1 = np.matmul(Twc, np.transpose(Pw_1))\n",
    "Pc_2 = np.matmul(Twc, np.transpose(Pw_2))\n",
    "Pc_3 = np.matmul(Twc, np.transpose(Pw_3))"
   ]
  },
  {
   "cell_type": "code",
   "execution_count": null,
   "metadata": {},
   "outputs": [],
   "source": [
    "# 3) Eq. Raio\n",
    "\n",
    "Pij_x = (-w / 2.) + (w / nx) * (i + 0.5)\n",
    "Pij_y = (h / 2.) + (-h / nx) * (j + 0.5)\n",
    "Pij_z = -d\n",
    "\n",
    "Pij = np.array([Pij_x, Pij_y, Pij_z])"
   ]
  },
  {
   "cell_type": "code",
   "execution_count": null,
   "metadata": {},
   "outputs": [],
   "source": [
    "# 4) Teste de intersecao\n",
    "\n",
    "# Estrategia 1\n",
    "N = np.cross((Pc_2 - Pc_1)[0:3], (Pc_3 - Pc_1)[0:3])\n",
    "n = N / norm(N)\n",
    "\n",
    "# ponto de intersecao\n",
    "t_num = np.matmul(np.transpose(n), Pc_1[0:3]) \n",
    "t_den = np.matmul(np.transpose(n), np.transpose(Pij))\n",
    "\n",
    "t_i = t_num / t_den; #0.7621;\n",
    "P_i = np.transpose((t_i * Pij))"
   ]
  },
  {
   "cell_type": "code",
   "execution_count": null,
   "metadata": {},
   "outputs": [],
   "source": [
    "# Teste P1P2Pi\n",
    "N1 = np.cross((Pc_2 - Pc_1)[0:3], P_i - Pc_1[0:3])\n",
    "n1 = N1 / norm(N1)\n",
    "#print(np.matmul(np.transpose(n), n1)) #ok\n",
    "\n",
    "# Teste P2P3Pi\n",
    "N2 = np.cross((Pc_3 - Pc_2)[0:3], P_i - Pc_2[0:3])\n",
    "n2 = N2 / norm(N2)\n",
    "#print(np.matmul(np.transpose(n), n2)) #ok\n",
    "\n",
    "# Teste P3P1Pi\n",
    "N3 = np.cross((Pc_1 - Pc_3)[0:3], P_i - Pc_3[0:3])\n",
    "n3 = N3 / norm(N3)\n",
    "#print(np.matmul(np.transpose(n), n3)) #ok"
   ]
  },
  {
   "cell_type": "code",
   "execution_count": null,
   "metadata": {},
   "outputs": [],
   "source": [
    "# Estrategia 2\n",
    "A = np.transpose(np.matrix([(Pc_3 - Pc_1)[0:3], (Pc_3 - Pc_2)[0:3], Pij]))\n",
    "invA = inv(A)\n",
    "\n",
    "res = np.matmul(invA, Pc_3[0:3])\n",
    "\n",
    "lambda1, lambda2, t = res[0,0], res[0,1], res[0,2]\n",
    "#print(lambda1, lambda2, t)"
   ]
  }
 ],
 "metadata": {
  "kernelspec": {
   "display_name": "Python 3",
   "language": "python",
   "name": "python3"
  },
  "language_info": {
   "codemirror_mode": {
    "name": "ipython",
    "version": 3
   },
   "file_extension": ".py",
   "mimetype": "text/x-python",
   "name": "python",
   "nbconvert_exporter": "python",
   "pygments_lexer": "ipython3",
   "version": "3.6.3"
  }
 },
 "nbformat": 4,
 "nbformat_minor": 2
}
